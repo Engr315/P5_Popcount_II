{
 "cells": [
  {
   "cell_type": "markdown",
   "metadata": {
    "slideshow": {
     "slide_type": "fragment"
    }
   },
   "source": [
    "## DMA Popcount\n",
    "\n",
    "Version: 2022.1\n",
    " "
   ]
  },
  {
   "cell_type": "code",
   "execution_count": 1,
   "metadata": {},
   "outputs": [
    {
     "data": {
      "application/javascript": [
       "\n",
       "try {\n",
       "require(['notebook/js/codecell'], function(codecell) {\n",
       "  codecell.CodeCell.options_default.highlight_modes[\n",
       "      'magic_text/x-csrc'] = {'reg':[/^%%microblaze/]};\n",
       "  Jupyter.notebook.events.one('kernel_ready.Kernel', function(){\n",
       "      Jupyter.notebook.get_cells().map(function(cell){\n",
       "          if (cell.cell_type == 'code'){ cell.auto_highlight(); } }) ;\n",
       "  });\n",
       "});\n",
       "} catch (e) {};\n"
      ]
     },
     "metadata": {},
     "output_type": "display_data"
    },
    {
     "data": {
      "application/javascript": [
       "\n",
       "try {\n",
       "require(['notebook/js/codecell'], function(codecell) {\n",
       "  codecell.CodeCell.options_default.highlight_modes[\n",
       "      'magic_text/x-csrc'] = {'reg':[/^%%pybind11/]};\n",
       "  Jupyter.notebook.events.one('kernel_ready.Kernel', function(){\n",
       "      Jupyter.notebook.get_cells().map(function(cell){\n",
       "          if (cell.cell_type == 'code'){ cell.auto_highlight(); } }) ;\n",
       "  });\n",
       "});\n",
       "} catch (e) {};\n"
      ]
     },
     "metadata": {},
     "output_type": "display_data"
    }
   ],
   "source": [
    "import importlib\n",
    "import numpy as np\n",
    "import timeit as tt\n",
    "\n",
    "from pynq import Overlay\n",
    "from pynq import MMIO"
   ]
  },
  {
   "cell_type": "code",
   "execution_count": 2,
   "metadata": {},
   "outputs": [],
   "source": [
    "class SoftwarePopcount():\n",
    "    \n",
    "    def name(self):\n",
    "        return self.__class__.__name__\n",
    "    \n",
    "    def countInt(self, n):        \n",
    "        w = 0\n",
    "        while (n):\n",
    "            w += 1\n",
    "            n &= n - 1\n",
    "        return w\n",
    "         \n",
    "    def countArray (self, buf):\n",
    "        total_ones = 0\n",
    "        for b in buf:\n",
    "            total_ones += self.countInt(b)\n",
    "        return total_ones\n",
    "        \n",
    "    def countFile(self,file):\n",
    "        f = open(file, \"r\")\n",
    "        buf = np.fromfile(f, dtype=np.uint32)\n",
    "        return self.countArray(buf)      \n",
    "\n",
    "# this class INHERITS name() countArray() and countFile() from\n",
    "# SoftwarePopcount\n",
    "class MMIOPopcount(SoftwarePopcount):\n",
    "        \n",
    "    def __init__(self, ):\n",
    "        try:\n",
    "            self.overlay = Overlay('bitstream.bit')        \n",
    "            self.mmio = self.overlay.axi_popcount_0.S_AXI_LITE\n",
    "        except:\n",
    "            raise Exception(\"Cound not find bitstream.bit\")\n",
    "    \n",
    "    def countInt(self, n): \n",
    "        self.mmio.write(0x0, 0x1)\n",
    "        self.mmio.write(0x4,int(n))\n",
    "        return self.mmio.read(0x4)\n",
    "    \n",
    "    def countArray (self, buf):\n",
    "        self.mmio.write(0x0, 0x1)\n",
    "        for b in buf:\n",
    "            self.mmio.write(0x4,int(b))\n",
    "        return self.mmio.read(0x4)\n",
    "\n",
    "        "
   ]
  },
  {
   "cell_type": "markdown",
   "metadata": {},
   "source": [
    "# You will need to impliment DMAPopcount!\n",
    "\n",
    "(It can be found in the 'DMAPopcount.py')"
   ]
  },
  {
   "cell_type": "code",
   "execution_count": 3,
   "metadata": {},
   "outputs": [
    {
     "ename": "OSError",
     "evalue": "Bitstream file bitstream.bit does not exist.",
     "output_type": "error",
     "traceback": [
      "\u001b[0;31m---------------------------------------------------------------------------\u001b[0m",
      "\u001b[0;31mOSError\u001b[0m                                   Traceback (most recent call last)",
      "\u001b[0;32m<ipython-input-3-3ac4c4ddc4e4>\u001b[0m in \u001b[0;36m<module>\u001b[0;34m()\u001b[0m\n\u001b[1;32m      2\u001b[0m \u001b[0mimportlib\u001b[0m\u001b[0;34m.\u001b[0m\u001b[0mreload\u001b[0m\u001b[0;34m(\u001b[0m\u001b[0mDMAPopcount\u001b[0m\u001b[0;34m)\u001b[0m\u001b[0;34m\u001b[0m\u001b[0m\n\u001b[1;32m      3\u001b[0m \u001b[0;34m\u001b[0m\u001b[0m\n\u001b[0;32m----> 4\u001b[0;31m for counter in [ SoftwarePopcount(), MMIOPopcount(),\n\u001b[0m\u001b[1;32m      5\u001b[0m                DMAPopcount.DMAPopcount()]:\n\u001b[1;32m      6\u001b[0m     \u001b[0mprint\u001b[0m \u001b[0;34m(\u001b[0m\u001b[0;34m)\u001b[0m\u001b[0;34m\u001b[0m\u001b[0m\n",
      "\u001b[0;32m<ipython-input-2-bf79d7ab7550>\u001b[0m in \u001b[0;36m__init__\u001b[0;34m(self)\u001b[0m\n\u001b[1;32m     27\u001b[0m \u001b[0;34m\u001b[0m\u001b[0m\n\u001b[1;32m     28\u001b[0m     \u001b[0;32mdef\u001b[0m \u001b[0m__init__\u001b[0m\u001b[0;34m(\u001b[0m\u001b[0mself\u001b[0m\u001b[0;34m,\u001b[0m \u001b[0;34m)\u001b[0m\u001b[0;34m:\u001b[0m\u001b[0;34m\u001b[0m\u001b[0m\n\u001b[0;32m---> 29\u001b[0;31m         \u001b[0mself\u001b[0m\u001b[0;34m.\u001b[0m\u001b[0moverlay\u001b[0m \u001b[0;34m=\u001b[0m \u001b[0mOverlay\u001b[0m\u001b[0;34m(\u001b[0m\u001b[0;34m'bitstream.bit'\u001b[0m\u001b[0;34m)\u001b[0m\u001b[0;34m\u001b[0m\u001b[0m\n\u001b[0m\u001b[1;32m     30\u001b[0m         \u001b[0mself\u001b[0m\u001b[0;34m.\u001b[0m\u001b[0mmmio\u001b[0m \u001b[0;34m=\u001b[0m \u001b[0mself\u001b[0m\u001b[0;34m.\u001b[0m\u001b[0moverlay\u001b[0m\u001b[0;34m.\u001b[0m\u001b[0maxi_popcount_0\u001b[0m\u001b[0;34m.\u001b[0m\u001b[0mS_AXI_LITE\u001b[0m\u001b[0;34m\u001b[0m\u001b[0m\n\u001b[1;32m     31\u001b[0m \u001b[0;34m\u001b[0m\u001b[0m\n",
      "\u001b[0;32m/usr/local/lib/python3.6/dist-packages/pynq/overlay.py\u001b[0m in \u001b[0;36m__init__\u001b[0;34m(self, bitfile_name, dtbo, download, ignore_version, device)\u001b[0m\n\u001b[1;32m    335\u001b[0m \u001b[0;34m\u001b[0m\u001b[0m\n\u001b[1;32m    336\u001b[0m         \"\"\"\n\u001b[0;32m--> 337\u001b[0;31m         \u001b[0msuper\u001b[0m\u001b[0;34m(\u001b[0m\u001b[0;34m)\u001b[0m\u001b[0;34m.\u001b[0m\u001b[0m__init__\u001b[0m\u001b[0;34m(\u001b[0m\u001b[0mbitfile_name\u001b[0m\u001b[0;34m,\u001b[0m \u001b[0mdtbo\u001b[0m\u001b[0;34m,\u001b[0m \u001b[0mpartial\u001b[0m\u001b[0;34m=\u001b[0m\u001b[0;32mFalse\u001b[0m\u001b[0;34m,\u001b[0m \u001b[0mdevice\u001b[0m\u001b[0;34m=\u001b[0m\u001b[0mdevice\u001b[0m\u001b[0;34m)\u001b[0m\u001b[0;34m\u001b[0m\u001b[0m\n\u001b[0m\u001b[1;32m    338\u001b[0m \u001b[0;34m\u001b[0m\u001b[0m\n\u001b[1;32m    339\u001b[0m         \u001b[0mself\u001b[0m\u001b[0;34m.\u001b[0m\u001b[0m_register_drivers\u001b[0m\u001b[0;34m(\u001b[0m\u001b[0;34m)\u001b[0m\u001b[0;34m\u001b[0m\u001b[0m\n",
      "\u001b[0;32m/usr/local/lib/python3.6/dist-packages/pynq/bitstream.py\u001b[0m in \u001b[0;36m__init__\u001b[0;34m(self, bitfile_name, dtbo, partial, device)\u001b[0m\n\u001b[1;32m    136\u001b[0m         \u001b[0;32melse\u001b[0m\u001b[0;34m:\u001b[0m\u001b[0;34m\u001b[0m\u001b[0m\n\u001b[1;32m    137\u001b[0m             raise IOError('Bitstream file {} does not exist.'.format(\n\u001b[0;32m--> 138\u001b[0;31m                 bitfile_name))\n\u001b[0m\u001b[1;32m    139\u001b[0m \u001b[0;34m\u001b[0m\u001b[0m\n\u001b[1;32m    140\u001b[0m         \u001b[0;32mif\u001b[0m \u001b[0mbitfile_abs\u001b[0m \u001b[0;32mand\u001b[0m \u001b[0mbitfile_overlay_abs_lst\u001b[0m \u001b[0;32mor\u001b[0m\u001b[0;31m \u001b[0m\u001b[0;31m\\\u001b[0m\u001b[0;34m\u001b[0m\u001b[0m\n",
      "\u001b[0;31mOSError\u001b[0m: Bitstream file bitstream.bit does not exist."
     ]
    }
   ],
   "source": [
    "import DMAPopcount\n",
    "importlib.reload(DMAPopcount)\n",
    "\n",
    "for counter in [ SoftwarePopcount(), MMIOPopcount(),\n",
    "               DMAPopcount.DMAPopcount()]:\n",
    "    print ()\n",
    "    print (\"Testing Counter: \" + str(counter.name()))\n",
    "    print ()\n",
    "    for i in range(17):\n",
    "        print ('value:' + str(i) + ' total_ones:' + str(counter.countInt(i)))\n",
    "\n",
    "    x = list(range(17))\n",
    "    print ('Array: ' + str(list(x)) + '\\n Total Ones: ' + str(counter.countArray(x)))"
   ]
  },
  {
   "cell_type": "code",
   "execution_count": null,
   "metadata": {},
   "outputs": [],
   "source": [
    "sw_counter = SoftwarePopcount()\n",
    "\n",
    "def count_zeros_sw():\n",
    "    print (\"Found \" + str(sw_counter.countFile(\"zeros.bin\")) + \" Ones\")\n",
    "def count_ones_sw():\n",
    "    print (\"Found \" + str(sw_counter.countFile(\"ones.bin\")) + \" Ones\")\n",
    "def count_tiny_sw():\n",
    "    print (\"Found \" + str(sw_counter.countFile(\"tiny.bin\")) + \" Ones\")\n",
    "def count_small_sw():\n",
    "    print (\"Found \" + str(sw_counter.countFile(\"small.bin\")) + \" Ones\")\n",
    "def count_medium_sw():\n",
    "    print (\"Found \" + str(sw_counter.countFile(\"medium.bin\")) + \" Ones\")\n",
    "def count_large_sw():\n",
    "    print (\"Found \" + str(sw_counter.countFile(\"large.bin\")) + \" Ones\")"
   ]
  },
  {
   "cell_type": "code",
   "execution_count": null,
   "metadata": {},
   "outputs": [],
   "source": [
    "# 'ones.bin' contains 256B of all binary 1's\n",
    "print(\"Timing 'ones.bin'\")\n",
    "time = tt.timeit(count_ones_sw, number=1)\n",
    "print(\"Total Time:\" + str(time) + \" seconds\")\n",
    "print()\n",
    "\n",
    "# 'zeros.bin' contains 256B of all binary 0's\n",
    "print(\"Timing 'zeros.bin'\")\n",
    "time = tt.timeit(count_zeros_sw, number=1)\n",
    "print(\"Total Time:\" + str(time) + \" seconds\")\n",
    "print()\n",
    "\n",
    "# 'tiny.bin' contains 256B of random 1's\n",
    "print(\"Timing 'tiny.bin'\")\n",
    "time = tt.timeit(count_tiny_sw, number=1)\n",
    "print(\"Total Time:\" + str(time) + \" seconds\")\n",
    "print()\n",
    "\n",
    "# 'small.bin' contains 4KB of random 1's\n",
    "print(\"Timing 'small.bin'\")\n",
    "time = tt.timeit(count_small_sw, number=1)\n",
    "print(\"Total Time:\" + str(time) + \" seconds\")\n",
    "print()\n",
    "\n",
    "# 'medium.bin' contains 1M of random 1's\n",
    "print(\"Timing 'medium.bin'\")\n",
    "time = tt.timeit(count_medium_sw, number=1)\n",
    "print(\"Total Time:\" + str(time) + \" seconds\")\n",
    "print()\n",
    "\n",
    "## 'large.bin' contains 10M of random 1's\n",
    "#print(\"Timing 'large.bin'\")\n",
    "#time = tt.timeit(count_large_sw, number=1)\n",
    "#print(\"Total Time:\" + str(time) + \" seconds\")\n",
    "#print()"
   ]
  },
  {
   "cell_type": "code",
   "execution_count": null,
   "metadata": {},
   "outputs": [],
   "source": [
    "mmio_counter = MMIOPopcount()\n",
    "\n",
    "\n",
    "def count_ones_mmio():\n",
    "    print (\"Found \" + str(mmio_counter.countFile(\"ones.bin\")) + \" Ones\")  \n",
    "def count_zeros_mmio():\n",
    "    print (\"Found \" + str(mmio_counter.countFile(\"zeros.bin\")) + \" Ones\")  \n",
    "def count_tiny_mmio():\n",
    "    print (\"Found \" + str(mmio_counter.countFile(\"tiny.bin\")) + \" Ones\")    \n",
    "def count_small_mmio():\n",
    "    print (\"Found \" + str(mmio_counter.countFile(\"small.bin\")) + \" Ones\")\n",
    "def count_medium_mmio():\n",
    "    print (\"Found \" + str(mmio_counter.countFile(\"medium.bin\")) + \" Ones\")\n",
    "def count_large_mmio():\n",
    "    print (\"Found \" + str(mmio_counter.countFile(\"large.bin\")) + \" Ones\")"
   ]
  },
  {
   "cell_type": "code",
   "execution_count": null,
   "metadata": {},
   "outputs": [],
   "source": [
    "# 'ones.bin' contains 256B of all binary 1's\n",
    "print(\"Timing 'ones.bin'\")\n",
    "time = tt.timeit(count_ones_mmio, number=1)\n",
    "print(\"Total Time:\" + str(time) + \" seconds\")\n",
    "print()\n",
    "\n",
    "# 'zeros.bin' contains 256B of all binary 0's\n",
    "print(\"Timing 'zeros.bin'\")\n",
    "time = tt.timeit(count_zeros_mmio, number=1)\n",
    "print(\"Total Time:\" + str(time) + \" seconds\")\n",
    "print()\n",
    "\n",
    "# 'tiny.bin' contains 256B of random 1's\n",
    "print(\"Timing 'tiny.bin'\")\n",
    "time = tt.timeit(count_tiny_mmio, number=1)\n",
    "print(\"Total Time:\" + str(time) + \" seconds\")\n",
    "print()\n",
    "\n",
    "# 'small.bin' contains 4KB of random 1's\n",
    "print(\"Timing 'small.bin'\")\n",
    "time = tt.timeit(count_small_mmio, number=1)\n",
    "print(\"Total Time:\" + str(time) + \" seconds\")\n",
    "print()\n",
    "\n",
    "# 'medium.bin' contains 1M of random 1's\n",
    "print(\"Timing 'medium.bin'\")\n",
    "time = tt.timeit(count_medium_mmio, number=1)\n",
    "print(\"Total Time:\" + str(time) + \" seconds\")\n",
    "print()\n",
    "\n",
    "## 'large.bin' contains 10M of random 1's\n",
    "#print(\"Timing 'large.bin'\")\n",
    "#time = tt.timeit(count_large_mmio, number=1)\n",
    "#print(\"Total Time:\" + str(time) + \" seconds\")\n",
    "#print()"
   ]
  },
  {
   "cell_type": "code",
   "execution_count": null,
   "metadata": {},
   "outputs": [],
   "source": [
    "dma_counter = DMAPopcount.DMAPopcount()\n",
    "\n",
    "\n",
    "def count_ones_dma():\n",
    "    print (\"Found \" + str(dma_counter.countFile(\"ones.bin\")) + \" Ones\")  \n",
    "def count_zeros_dma():\n",
    "    print (\"Found \" + str(dma_counter.countFile(\"zeros.bin\")) + \" Ones\")  \n",
    "def count_tiny_dma():\n",
    "    print (\"Found \" + str(dma_counter.countFile(\"tiny.bin\")) + \" Ones\")    \n",
    "def count_small_dma():\n",
    "    print (\"Found \" + str(dma_counter.countFile(\"small.bin\")) + \" Ones\")\n",
    "def count_medium_dma():\n",
    "    print (\"Found \" + str(dma_counter.countFile(\"medium.bin\")) + \" Ones\")\n",
    "def count_large_dma():\n",
    "    print (\"Found \" + str(dma_counter.countFile(\"large.bin\")) + \" Ones\")"
   ]
  },
  {
   "cell_type": "code",
   "execution_count": null,
   "metadata": {},
   "outputs": [],
   "source": [
    "# 'ones.bin' contains 256B of all binary 1's\n",
    "print(\"Timing 'ones.bin'\")\n",
    "time = tt.timeit(count_ones_dma, number=1)\n",
    "print(\"Total Time:\" + str(time) + \" seconds\")\n",
    "print()\n",
    "\n",
    "# 'zeros.bin' contains 256B of all binary 0's\n",
    "print(\"Timing 'zeros.bin'\")\n",
    "time = tt.timeit(count_zeros_dma, number=1)\n",
    "print(\"Total Time:\" + str(time) + \" seconds\")\n",
    "print()\n",
    "\n",
    "# 'tiny.bin' contains 256B of random 1's\n",
    "print(\"Timing 'tiny.bin'\")\n",
    "time = tt.timeit(count_tiny_dma, number=1)\n",
    "print(\"Total Time:\" + str(time) + \" seconds\")\n",
    "print()\n",
    "\n",
    "# 'small.bin' contains 4KB of random 1's\n",
    "print(\"Timing 'small.bin'\")\n",
    "time = tt.timeit(count_small_dma, number=1)\n",
    "print(\"Total Time:\" + str(time) + \" seconds\")\n",
    "print()\n",
    "\n",
    "# 'medium.bin' contains 1M of random 1's\n",
    "print(\"Timing 'medium.bin'\")\n",
    "time = tt.timeit(count_medium_dma, number=1)\n",
    "print(\"Total Time:\" + str(time) + \" seconds\")\n",
    "print()\n",
    "\n",
    "# 'large.bin' contains 10M of random 1's\n",
    "print(\"Timing 'large.bin'\")\n",
    "time = tt.timeit(count_large_dma, number=1)\n",
    "print(\"Total Time:\" + str(time) + \" seconds\")\n",
    "print()"
   ]
  },
  {
   "cell_type": "code",
   "execution_count": null,
   "metadata": {},
   "outputs": [],
   "source": []
  }
 ],
 "metadata": {
  "kernelspec": {
   "display_name": "Python 3",
   "language": "python",
   "name": "python3"
  }
 },
 "nbformat": 4,
 "nbformat_minor": 2
}
